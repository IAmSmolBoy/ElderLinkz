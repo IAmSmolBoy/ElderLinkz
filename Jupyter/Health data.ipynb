{
 "cells": [
  {
   "cell_type": "markdown",
   "id": "d2368ef2-4292-46dc-b575-b58cc1592fb5",
   "metadata": {},
   "source": [
    "### Read CSV data file and see overall info"
   ]
  },
  {
   "cell_type": "code",
   "execution_count": 63,
   "id": "acbdea41",
   "metadata": {},
   "outputs": [],
   "source": [
    "import pandas as pd\n",
    "\n",
    "df = pd.read_csv('Health data.csv')"
   ]
  },
  {
   "cell_type": "code",
   "execution_count": 64,
   "id": "8ccda520",
   "metadata": {},
   "outputs": [
    {
     "data": {
      "text/html": [
       "<div>\n",
       "<style scoped>\n",
       "    .dataframe tbody tr th:only-of-type {\n",
       "        vertical-align: middle;\n",
       "    }\n",
       "\n",
       "    .dataframe tbody tr th {\n",
       "        vertical-align: top;\n",
       "    }\n",
       "\n",
       "    .dataframe thead th {\n",
       "        text-align: right;\n",
       "    }\n",
       "</style>\n",
       "<table border=\"1\" class=\"dataframe\">\n",
       "  <thead>\n",
       "    <tr style=\"text-align: right;\">\n",
       "      <th></th>\n",
       "      <th>pulse</th>\n",
       "      <th>body temperature</th>\n",
       "      <th>SpO2</th>\n",
       "      <th>Status</th>\n",
       "    </tr>\n",
       "  </thead>\n",
       "  <tbody>\n",
       "    <tr>\n",
       "      <th>0</th>\n",
       "      <td>70</td>\n",
       "      <td>36.0</td>\n",
       "      <td>99</td>\n",
       "      <td>0</td>\n",
       "    </tr>\n",
       "    <tr>\n",
       "      <th>1</th>\n",
       "      <td>70</td>\n",
       "      <td>36.0</td>\n",
       "      <td>98</td>\n",
       "      <td>0</td>\n",
       "    </tr>\n",
       "    <tr>\n",
       "      <th>2</th>\n",
       "      <td>70</td>\n",
       "      <td>36.0</td>\n",
       "      <td>97</td>\n",
       "      <td>0</td>\n",
       "    </tr>\n",
       "    <tr>\n",
       "      <th>3</th>\n",
       "      <td>70</td>\n",
       "      <td>36.0</td>\n",
       "      <td>96</td>\n",
       "      <td>0</td>\n",
       "    </tr>\n",
       "    <tr>\n",
       "      <th>4</th>\n",
       "      <td>70</td>\n",
       "      <td>36.1</td>\n",
       "      <td>100</td>\n",
       "      <td>0</td>\n",
       "    </tr>\n",
       "    <tr>\n",
       "      <th>...</th>\n",
       "      <td>...</td>\n",
       "      <td>...</td>\n",
       "      <td>...</td>\n",
       "      <td>...</td>\n",
       "    </tr>\n",
       "    <tr>\n",
       "      <th>5904</th>\n",
       "      <td>88</td>\n",
       "      <td>38.9</td>\n",
       "      <td>85</td>\n",
       "      <td>2</td>\n",
       "    </tr>\n",
       "    <tr>\n",
       "      <th>5905</th>\n",
       "      <td>88</td>\n",
       "      <td>38.9</td>\n",
       "      <td>86</td>\n",
       "      <td>2</td>\n",
       "    </tr>\n",
       "    <tr>\n",
       "      <th>5906</th>\n",
       "      <td>88</td>\n",
       "      <td>38.9</td>\n",
       "      <td>87</td>\n",
       "      <td>2</td>\n",
       "    </tr>\n",
       "    <tr>\n",
       "      <th>5907</th>\n",
       "      <td>88</td>\n",
       "      <td>38.9</td>\n",
       "      <td>88</td>\n",
       "      <td>2</td>\n",
       "    </tr>\n",
       "    <tr>\n",
       "      <th>5908</th>\n",
       "      <td>88</td>\n",
       "      <td>38.9</td>\n",
       "      <td>89</td>\n",
       "      <td>2</td>\n",
       "    </tr>\n",
       "  </tbody>\n",
       "</table>\n",
       "<p>5909 rows × 4 columns</p>\n",
       "</div>"
      ],
      "text/plain": [
       "      pulse  body temperature  SpO2  Status\n",
       "0        70              36.0    99       0\n",
       "1        70              36.0    98       0\n",
       "2        70              36.0    97       0\n",
       "3        70              36.0    96       0\n",
       "4        70              36.1   100       0\n",
       "...     ...               ...   ...     ...\n",
       "5904     88              38.9    85       2\n",
       "5905     88              38.9    86       2\n",
       "5906     88              38.9    87       2\n",
       "5907     88              38.9    88       2\n",
       "5908     88              38.9    89       2\n",
       "\n",
       "[5909 rows x 4 columns]"
      ]
     },
     "execution_count": 64,
     "metadata": {},
     "output_type": "execute_result"
    }
   ],
   "source": [
    "df"
   ]
  },
  {
   "cell_type": "code",
   "execution_count": 65,
   "id": "a06746d1-3044-477a-8a75-727a59c42d61",
   "metadata": {},
   "outputs": [
    {
     "name": "stdout",
     "output_type": "stream",
     "text": [
      "<class 'pandas.core.frame.DataFrame'>\n",
      "RangeIndex: 5909 entries, 0 to 5908\n",
      "Data columns (total 4 columns):\n",
      " #   Column            Non-Null Count  Dtype  \n",
      "---  ------            --------------  -----  \n",
      " 0   pulse             5909 non-null   int64  \n",
      " 1   body temperature  5909 non-null   float64\n",
      " 2   SpO2              5909 non-null   int64  \n",
      " 3   Status            5909 non-null   int64  \n",
      "dtypes: float64(1), int64(3)\n",
      "memory usage: 184.8 KB\n"
     ]
    }
   ],
   "source": [
    "df.info()"
   ]
  },
  {
   "cell_type": "code",
   "execution_count": 66,
   "id": "a58f8b87-1629-47ed-a409-8024adb8310b",
   "metadata": {},
   "outputs": [
    {
     "data": {
      "image/png": "[encoded data removed]",
      "text/plain": [
       "<Figure size 640x480 with 2 Axes>"
      ]
     },
     "metadata": {},
     "output_type": "display_data"
    }
   ],
   "source": [
    "import seaborn as sns\n",
    "\n",
    "p1 = sns.heatmap(df.corr(), annot=True, annot_kws={\"size\": 7})"
   ]
  },
  {
   "cell_type": "markdown",
   "id": "052b1ae7-b397-4718-a49c-2f88f0e81525",
   "metadata": {},
   "source": [
    "## Pre-processing\n",
    "### Getting X and Y, then split into training and testing dataset"
   ]
  },
  {
   "cell_type": "code",
   "execution_count": 67,
   "id": "1957f52b-6e8d-4036-909a-19c3909dbbb5",
   "metadata": {},
   "outputs": [
    {
     "name": "stdout",
     "output_type": "stream",
     "text": [
      "0       0\n",
      "1       0\n",
      "2       0\n",
      "3       0\n",
      "4       0\n",
      "       ..\n",
      "5904    2\n",
      "5905    2\n",
      "5906    2\n",
      "5907    2\n",
      "5908    2\n",
      "Name: Status, Length: 5909, dtype: int64\n"
     ]
    }
   ],
   "source": [
    "y = df['Status']\n",
    "print(y)\n",
    "X = df.drop('Status', axis=1)"
   ]
  },
  {
   "cell_type": "code",
   "execution_count": 68,
   "id": "194ea4fa-059b-4626-8f8c-a078220c7a39",
   "metadata": {},
   "outputs": [
    {
     "name": "stdout",
     "output_type": "stream",
     "text": [
      "      pulse  body temperature  SpO2\n",
      "2133     84              37.3    96\n",
      "1842     80              38.0    95\n",
      "1400     75              37.0    97\n",
      "4095     72              39.2    94\n",
      "355      77              36.1    99\n",
      "...     ...               ...   ...\n",
      "862      87              36.2    97\n",
      "531      80              36.6    98\n",
      "4728     82              39.8    91\n",
      "4645     80              40.4    92\n",
      "3118     82              36.9    91\n",
      "\n",
      "[4136 rows x 3 columns]       pulse  body temperature  SpO2\n",
      "2430     87              38.7    95\n",
      "2880     77              36.0    93\n",
      "3434    140              36.8    97\n",
      "190      73              36.8    99\n",
      "5537     80              37.5    88\n",
      "...     ...               ...   ...\n",
      "901      88              36.0    98\n",
      "762      85              36.2    97\n",
      "1499     76              37.5    98\n",
      "2457     88              37.4    96\n",
      "5109     88              40.1    94\n",
      "\n",
      "[1773 rows x 3 columns] 2133    1\n",
      "1842    1\n",
      "1400    1\n",
      "4095    2\n",
      "355     0\n",
      "       ..\n",
      "862     0\n",
      "531     0\n",
      "4728    2\n",
      "4645    2\n",
      "3118    1\n",
      "Name: Status, Length: 4136, dtype: int64 2430    1\n",
      "2880    1\n",
      "3434    2\n",
      "190     0\n",
      "5537    2\n",
      "       ..\n",
      "901     0\n",
      "762     0\n",
      "1499    1\n",
      "2457    1\n",
      "5109    2\n",
      "Name: Status, Length: 1773, dtype: int64\n"
     ]
    }
   ],
   "source": [
    "from sklearn.model_selection import train_test_split\n",
    "\n",
    "X_train, X_test, y_train, y_test = train_test_split(X, y, test_size=0.3)\n",
    "print(X_train, X_test, y_train, y_test)"
   ]
  },
  {
   "cell_type": "markdown",
   "id": "d03525e9-aef0-4e17-b6be-a92a7fcb2219",
   "metadata": {},
   "source": [
    "## Training\n",
    "### Fit Logistic Regressor and Neural Network with training sets"
   ]
  },
  {
   "cell_type": "code",
   "execution_count": 69,
   "id": "0a36b6e5-4300-4b70-8cd4-891423b4b1fa",
   "metadata": {},
   "outputs": [],
   "source": [
    "from sklearn.linear_model import LogisticRegression\n",
    "\n",
    "lr = LogisticRegression(\n",
    "    max_iter=1500\n",
    ").fit(X_train, y_train)"
   ]
  },
  {
   "cell_type": "code",
   "execution_count": 70,
   "id": "0d4d723e-a7fc-410d-ac4c-09a5b0091468",
   "metadata": {},
   "outputs": [],
   "source": [
    "from sklearn.neural_network import MLPClassifier\n",
    "\n",
    "mlpc = MLPClassifier(\n",
    "    max_iter=1500\n",
    ").fit(X_train, y_train)"
   ]
  },
  {
   "cell_type": "markdown",
   "id": "96bbf9f2-247e-4d29-ac92-adbf5b876c2b",
   "metadata": {},
   "source": [
    "## Optimisation\n",
    "### Grid Search to find best hyperparameter to use"
   ]
  },
  {
   "cell_type": "code",
   "execution_count": 75,
   "id": "0b528a0c-8008-4a67-9096-b5cc06880094",
   "metadata": {},
   "outputs": [],
   "source": [
    "from sklearn.model_selection import GridSearchCV\n",
    "\n",
    "lrParams = {\n",
    "    'solver': ['newton-cg', 'lbfgs', 'liblinear'],\n",
    "    'penalty': ['l2'],\n",
    "    'C': [100, 10, 1.0, 0.1, 0.01]\n",
    "}\n",
    "\n",
    "lrGridSearch = GridSearchCV(estimator=lr, param_grid=lrParams, n_jobs=4, scoring='accuracy')\n",
    "grid_result = lrGridSearch.fit(X, y)"
   ]
  },
  {
   "cell_type": "code",
   "execution_count": 76,
   "id": "8844ed6c-d156-4a18-8360-ea0e6d91dce8",
   "metadata": {},
   "outputs": [
    {
     "name": "stdout",
     "output_type": "stream",
     "text": [
      "Best: 0.920127 using {'C': 1.0, 'penalty': 'l2', 'solver': 'liblinear'}\n",
      "0.917591 (0.063973) with: {'C': 100, 'penalty': 'l2', 'solver': 'newton-cg'}\n",
      "0.910479 (0.060687) with: {'C': 100, 'penalty': 'l2', 'solver': 'lbfgs'}\n",
      "0.917590 (0.059546) with: {'C': 100, 'penalty': 'l2', 'solver': 'liblinear'}\n",
      "0.917929 (0.062932) with: {'C': 10, 'penalty': 'l2', 'solver': 'newton-cg'}\n",
      "0.911663 (0.059897) with: {'C': 10, 'penalty': 'l2', 'solver': 'lbfgs'}\n",
      "0.918097 (0.059615) with: {'C': 10, 'penalty': 'l2', 'solver': 'liblinear'}\n",
      "0.918944 (0.059908) with: {'C': 1.0, 'penalty': 'l2', 'solver': 'newton-cg'}\n",
      "0.912848 (0.057745) with: {'C': 1.0, 'penalty': 'l2', 'solver': 'lbfgs'}\n",
      "0.920127 (0.056228) with: {'C': 1.0, 'penalty': 'l2', 'solver': 'liblinear'}\n",
      "0.918774 (0.058343) with: {'C': 0.1, 'penalty': 'l2', 'solver': 'newton-cg'}\n",
      "0.914034 (0.058275) with: {'C': 0.1, 'penalty': 'l2', 'solver': 'lbfgs'}\n",
      "0.916911 (0.047857) with: {'C': 0.1, 'penalty': 'l2', 'solver': 'liblinear'}\n",
      "0.896262 (0.053729) with: {'C': 0.01, 'penalty': 'l2', 'solver': 'newton-cg'}\n",
      "0.902185 (0.049969) with: {'C': 0.01, 'penalty': 'l2', 'solver': 'lbfgs'}\n",
      "0.897275 (0.027020) with: {'C': 0.01, 'penalty': 'l2', 'solver': 'liblinear'}\n"
     ]
    }
   ],
   "source": [
    "print(\"Best: %f using %s\" % (grid_result.best_score_, grid_result.best_params_))\n",
    "means = grid_result.cv_results_['mean_test_score']\n",
    "stds = grid_result.cv_results_['std_test_score']\n",
    "params = grid_result.cv_results_['params']\n",
    "for mean, stdev, param in zip(means, stds, params):\n",
    "    print(\"%f (%f) with: %r\" % (mean, stdev, param))"
   ]
  },
  {
   "cell_type": "markdown",
   "id": "bb20c9e6-f344-4e44-8619-1c90e1b9e9c1",
   "metadata": {},
   "source": [
    "## Testing\n",
    "### Get accuracy score"
   ]
  },
  {
   "cell_type": "code",
   "execution_count": 50,
   "id": "29f8fb80-5b08-48a0-819d-667c01263d25",
   "metadata": {},
   "outputs": [
    {
     "data": {
      "text/plain": [
       "96.72870840383531"
      ]
     },
     "execution_count": 50,
     "metadata": {},
     "output_type": "execute_result"
    }
   ],
   "source": [
    "from sklearn.metrics import accuracy_score\n",
    "\n",
    "accuracy_score(y_test, lr.predict(X_test)) * 100"
   ]
  },
  {
   "cell_type": "code",
   "execution_count": 77,
   "id": "8660a202-3adb-410d-beef-385c37d85334",
   "metadata": {},
   "outputs": [
    {
     "data": {
      "text/plain": [
       "0.9543147208121827"
      ]
     },
     "execution_count": 77,
     "metadata": {},
     "output_type": "execute_result"
    }
   ],
   "source": [
    "accuracy_score(y_test, lrGridSearch.predict(X_test))"
   ]
  },
  {
   "cell_type": "code",
   "execution_count": 51,
   "id": "eabafe0b-08ae-41a0-b7b0-32f5628b66b8",
   "metadata": {},
   "outputs": [
    {
     "data": {
      "text/plain": [
       "97.0107163000564"
      ]
     },
     "execution_count": 51,
     "metadata": {},
     "output_type": "execute_result"
    }
   ],
   "source": [
    "accuracy_score(y_test, mlpc.predict(X_test)) * 100"
   ]
  },
  {
   "cell_type": "markdown",
   "id": "55831c7e-662a-40f2-b666-1ca3f1a68c25",
   "metadata": {},
   "source": [
    "## Predict"
   ]
  },
  {
   "cell_type": "code",
   "execution_count": 92,
   "id": "5afae35a-1b2d-4bf8-a0d5-4e92526156bb",
   "metadata": {},
   "outputs": [
    {
     "data": {
      "text/plain": [
       "1"
      ]
     },
     "execution_count": 92,
     "metadata": {},
     "output_type": "execute_result"
    }
   ],
   "source": [
    "lrGridSearch.predict(pd.DataFrame({\n",
    "    'pulse': [65],\n",
    "    'body temperature': [37],\n",
    "    'SpO2': [92]\n",
    "}))[0]"
   ]
  },
  {
   "cell_type": "markdown",
   "id": "b7feff18-1aa7-4429-b471-a1ee50d10b12",
   "metadata": {},
   "source": [
    "## Export\n",
    "### Export the models as .pkl files using joblib"
   ]
  },
  {
   "cell_type": "code",
   "execution_count": null,
   "id": "d858e8b8-c4e5-4602-9df1-441f10a4dc5f",
   "metadata": {},
   "outputs": [],
   "source": [
    "from joblib import Parallel, delayed \n",
    "import joblib \n",
    "\n",
    "joblib.dump(lr, 'logisticRegression.pkl')\n",
    "joblib.dump(lrGridSearch, 'logisticRegressionGridSearch.pkl')\n",
    "joblib.dump(mlpc, 'MLPClassifier.pkl')"
   ]
  }
 ],
 "metadata": {
  "kernelspec": {
   "display_name": "Python 3 (ipykernel)",
   "language": "python",
   "name": "python3"
  },
  "language_info": {
   "codemirror_mode": {
    "name": "ipython",
    "version": 3
   },
   "file_extension": ".py",
   "mimetype": "text/x-python",
   "name": "python",
   "nbconvert_exporter": "python",
   "pygments_lexer": "ipython3",
   "version": "3.11.5"
  }
 },
 "nbformat": 4,
 "nbformat_minor": 5
}
